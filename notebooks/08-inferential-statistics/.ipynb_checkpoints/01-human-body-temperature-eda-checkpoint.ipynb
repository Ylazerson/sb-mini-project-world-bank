{
 "cells": [
  {
   "cell_type": "markdown",
   "metadata": {},
   "source": [
    "# B\"H\n",
    "\n",
    "\n",
    "\n",
    "\n",
    "# What is the True Normal Human Body Temperature? \n",
    "\n",
    "#### Background\n",
    "- The mean normal body temperature was held to be 37$^{\\circ}$C or 98.6$^{\\circ}$F for more than 120 years since it was first conceptualized and reported by Carl Wunderlich in a famous 1868 book. \n",
    "- But, is this value statistically correct?\n"
   ]
  },
  {
   "cell_type": "code",
   "execution_count": 1,
   "metadata": {
    "collapsed": true
   },
   "outputs": [],
   "source": [
    "import os\n",
    "import sys\n",
    "\n",
    "import math\n",
    "\n",
    "import numpy as np\n",
    "import pandas as pd\n",
    "\n",
    "from scipy import stats\n",
    "\n",
    "import matplotlib.pyplot as plt\n",
    "\n",
    "import seaborn as sns"
   ]
  },
  {
   "cell_type": "markdown",
   "metadata": {},
   "source": [
    "---\n",
    "## Set the plot output sizes"
   ]
  },
  {
   "cell_type": "code",
   "execution_count": 2,
   "metadata": {},
   "outputs": [
    {
     "name": "stdout",
     "output_type": "stream",
     "text": [
      "Prior size: [6.0, 4.0]\n",
      "Current size: [12, 9]\n"
     ]
    }
   ],
   "source": [
    "# Get current size\n",
    "fig_size = plt.rcParams[\"figure.figsize\"]\n",
    " \n",
    "# Prints: [8.0, 6.0]\n",
    "print (\"Prior size:\", fig_size)\n",
    " \n",
    "# Set figure width to 12 and height to 9\n",
    "fig_size[0] = 12\n",
    "fig_size[1] = 9\n",
    "plt.rcParams[\"figure.figsize\"] = fig_size\n",
    "\n",
    "print (\"Current size:\", fig_size)"
   ]
  },
  {
   "cell_type": "markdown",
   "metadata": {},
   "source": [
    "---\n",
    "## Get project info"
   ]
  },
  {
   "cell_type": "code",
   "execution_count": 3,
   "metadata": {},
   "outputs": [
    {
     "name": "stdout",
     "output_type": "stream",
     "text": [
      "/home/laz/repos/springboard-mini-projects/notebooks\n"
     ]
    }
   ],
   "source": [
    "NOTEBOOKS_DIR = os.path.join(os.pardir)\n",
    "\n",
    "print(os.path.abspath(NOTEBOOKS_DIR))"
   ]
  },
  {
   "cell_type": "code",
   "execution_count": 4,
   "metadata": {},
   "outputs": [
    {
     "name": "stdout",
     "output_type": "stream",
     "text": [
      "/home/laz/repos/springboard-mini-projects\n"
     ]
    }
   ],
   "source": [
    "PROJ_ROOT = os.path.join(NOTEBOOKS_DIR,os.pardir)\n",
    "\n",
    "print(os.path.abspath(PROJ_ROOT))"
   ]
  },
  {
   "cell_type": "code",
   "execution_count": 5,
   "metadata": {},
   "outputs": [
    {
     "name": "stdout",
     "output_type": "stream",
     "text": [
      "/home/laz/repos/springboard-mini-projects/src\n"
     ]
    }
   ],
   "source": [
    "# add the 'src' directory as one where we can import modules\n",
    "SRC_DIR = os.path.join(PROJ_ROOT, 'src')\n",
    "sys.path.append(SRC_DIR)\n",
    "\n",
    "print(os.path.abspath(SRC_DIR))"
   ]
  },
  {
   "cell_type": "code",
   "execution_count": 6,
   "metadata": {},
   "outputs": [],
   "source": [
    "# Load the \"autoreload\" extension\n",
    "%load_ext autoreload\n",
    "\n",
    "# always reload modules marked with \"%aimport\"\n",
    "%autoreload 1\n",
    "\n",
    "# import my method from the source code\n",
    "%aimport helper_functions\n",
    "import helper_functions as hf"
   ]
  },
  {
   "cell_type": "markdown",
   "metadata": {},
   "source": [
    "---\n",
    "## Import the data:"
   ]
  },
  {
   "cell_type": "code",
   "execution_count": 7,
   "metadata": {},
   "outputs": [
    {
     "data": {
      "text/html": [
       "<div>\n",
       "<style scoped>\n",
       "    .dataframe tbody tr th:only-of-type {\n",
       "        vertical-align: middle;\n",
       "    }\n",
       "\n",
       "    .dataframe tbody tr th {\n",
       "        vertical-align: top;\n",
       "    }\n",
       "\n",
       "    .dataframe thead th {\n",
       "        text-align: right;\n",
       "    }\n",
       "</style>\n",
       "<table border=\"1\" class=\"dataframe\">\n",
       "  <thead>\n",
       "    <tr style=\"text-align: right;\">\n",
       "      <th></th>\n",
       "      <th>temperature</th>\n",
       "      <th>gender</th>\n",
       "      <th>heart_rate</th>\n",
       "    </tr>\n",
       "  </thead>\n",
       "  <tbody>\n",
       "    <tr>\n",
       "      <th>0</th>\n",
       "      <td>99.3</td>\n",
       "      <td>F</td>\n",
       "      <td>68.0</td>\n",
       "    </tr>\n",
       "    <tr>\n",
       "      <th>1</th>\n",
       "      <td>98.4</td>\n",
       "      <td>F</td>\n",
       "      <td>81.0</td>\n",
       "    </tr>\n",
       "    <tr>\n",
       "      <th>2</th>\n",
       "      <td>97.8</td>\n",
       "      <td>M</td>\n",
       "      <td>73.0</td>\n",
       "    </tr>\n",
       "    <tr>\n",
       "      <th>3</th>\n",
       "      <td>99.2</td>\n",
       "      <td>F</td>\n",
       "      <td>66.0</td>\n",
       "    </tr>\n",
       "    <tr>\n",
       "      <th>4</th>\n",
       "      <td>98.0</td>\n",
       "      <td>F</td>\n",
       "      <td>73.0</td>\n",
       "    </tr>\n",
       "  </tbody>\n",
       "</table>\n",
       "</div>"
      ],
      "text/plain": [
       "   temperature gender  heart_rate\n",
       "0         99.3      F        68.0\n",
       "1         98.4      F        81.0\n",
       "2         97.8      M        73.0\n",
       "3         99.2      F        66.0\n",
       "4         98.0      F        73.0"
      ]
     },
     "execution_count": 7,
     "metadata": {},
     "output_type": "execute_result"
    }
   ],
   "source": [
    "temp_df = hf.read_csv(\n",
    "    p_dir       = hf.DATA_DIR,\n",
    "    p_file_name = 'human_body_temperature.csv'\n",
    ")\n",
    "\n",
    "temp_df.head()"
   ]
  },
  {
   "cell_type": "code",
   "execution_count": 8,
   "metadata": {},
   "outputs": [
    {
     "name": "stdout",
     "output_type": "stream",
     "text": [
      "<class 'pandas.core.frame.DataFrame'>\n",
      "RangeIndex: 130 entries, 0 to 129\n",
      "Data columns (total 3 columns):\n",
      "temperature    130 non-null float64\n",
      "gender         130 non-null object\n",
      "heart_rate     130 non-null float64\n",
      "dtypes: float64(2), object(1)\n",
      "memory usage: 3.1+ KB\n"
     ]
    }
   ],
   "source": [
    "temp_df.info()"
   ]
  },
  {
   "cell_type": "code",
   "execution_count": 9,
   "metadata": {},
   "outputs": [
    {
     "data": {
      "text/plain": [
       "array(['F', 'M'], dtype=object)"
      ]
     },
     "execution_count": 9,
     "metadata": {},
     "output_type": "execute_result"
    }
   ],
   "source": [
    "temp_df['gender'].unique()"
   ]
  },
  {
   "cell_type": "code",
   "execution_count": 10,
   "metadata": {},
   "outputs": [
    {
     "data": {
      "text/html": [
       "<div>\n",
       "<style scoped>\n",
       "    .dataframe tbody tr th:only-of-type {\n",
       "        vertical-align: middle;\n",
       "    }\n",
       "\n",
       "    .dataframe tbody tr th {\n",
       "        vertical-align: top;\n",
       "    }\n",
       "\n",
       "    .dataframe thead th {\n",
       "        text-align: right;\n",
       "    }\n",
       "</style>\n",
       "<table border=\"1\" class=\"dataframe\">\n",
       "  <thead>\n",
       "    <tr style=\"text-align: right;\">\n",
       "      <th></th>\n",
       "      <th>temperature</th>\n",
       "      <th>heart_rate</th>\n",
       "    </tr>\n",
       "  </thead>\n",
       "  <tbody>\n",
       "    <tr>\n",
       "      <th>count</th>\n",
       "      <td>130.000000</td>\n",
       "      <td>130.000000</td>\n",
       "    </tr>\n",
       "    <tr>\n",
       "      <th>mean</th>\n",
       "      <td>98.249231</td>\n",
       "      <td>73.761538</td>\n",
       "    </tr>\n",
       "    <tr>\n",
       "      <th>std</th>\n",
       "      <td>0.733183</td>\n",
       "      <td>7.062077</td>\n",
       "    </tr>\n",
       "    <tr>\n",
       "      <th>min</th>\n",
       "      <td>96.300000</td>\n",
       "      <td>57.000000</td>\n",
       "    </tr>\n",
       "    <tr>\n",
       "      <th>25%</th>\n",
       "      <td>97.800000</td>\n",
       "      <td>69.000000</td>\n",
       "    </tr>\n",
       "    <tr>\n",
       "      <th>50%</th>\n",
       "      <td>98.300000</td>\n",
       "      <td>74.000000</td>\n",
       "    </tr>\n",
       "    <tr>\n",
       "      <th>75%</th>\n",
       "      <td>98.700000</td>\n",
       "      <td>79.000000</td>\n",
       "    </tr>\n",
       "    <tr>\n",
       "      <th>max</th>\n",
       "      <td>100.800000</td>\n",
       "      <td>89.000000</td>\n",
       "    </tr>\n",
       "  </tbody>\n",
       "</table>\n",
       "</div>"
      ],
      "text/plain": [
       "       temperature  heart_rate\n",
       "count   130.000000  130.000000\n",
       "mean     98.249231   73.761538\n",
       "std       0.733183    7.062077\n",
       "min      96.300000   57.000000\n",
       "25%      97.800000   69.000000\n",
       "50%      98.300000   74.000000\n",
       "75%      98.700000   79.000000\n",
       "max     100.800000   89.000000"
      ]
     },
     "execution_count": 10,
     "metadata": {},
     "output_type": "execute_result"
    }
   ],
   "source": [
    "temp_df.describe()"
   ]
  },
  {
   "cell_type": "code",
   "execution_count": 11,
   "metadata": {},
   "outputs": [],
   "source": [
    "temp_vals = temp_df['temperature'].values\n",
    "\n",
    "temp_f_vals = temp_df[temp_df['gender'] == 'F']['temperature'].values\n",
    "temp_m_vals = temp_df[temp_df['gender'] == 'M']['temperature'].values"
   ]
  },
  {
   "cell_type": "code",
   "execution_count": 12,
   "metadata": {},
   "outputs": [
    {
     "name": "stdout",
     "output_type": "stream",
     "text": [
      "mean of temp (M&F)               : 98.24923076923075\n",
      "standard deviation of temp (M&F) : 0.730357778905038\n",
      "-  -  -  -  -  -  -  -  -  -  -  -  -  \n",
      "mean of temp (F)                 : 98.39384615384614\n",
      "standard deviation of temp (F)   : 0.7377464486428966\n",
      "-  -  -  -  -  -  -  -  -  -  -  -  -  \n",
      "mean of temp (M)                 : 98.10461538461537\n",
      "standard deviation of temp (M)   : 0.6933598841828699\n"
     ]
    }
   ],
   "source": [
    "# Compute mean and standard deviation:\n",
    "\n",
    "mu      = np.mean(temp_vals)\n",
    "sigma   = np.std(temp_vals)\n",
    "\n",
    "f_mu    = np.mean(temp_f_vals)\n",
    "f_sigma = np.std(temp_f_vals)\n",
    "\n",
    "m_mu    = np.mean(temp_m_vals)\n",
    "m_sigma = np.std(temp_m_vals)\n",
    "\n",
    "# ~~~~~~~~~~~~~~~~~~~~~~~~~~~~~~~~~~~~~~~~~~~~~~~~~~~~~~~~~~~~~~~~~~~~~~~~~~~~~\n",
    "\n",
    "print(\"mean of temp (M&F)               :\", mu)\n",
    "print(\"standard deviation of temp (M&F) :\", sigma)\n",
    "print(\"-  -  -  -  -  -  -  -  -  -  -  -  -  \")\n",
    "print(\"mean of temp (F)                 :\", f_mu)\n",
    "print(\"standard deviation of temp (F)   :\", f_sigma)\n",
    "print(\"-  -  -  -  -  -  -  -  -  -  -  -  -  \")\n",
    "print(\"mean of temp (M)                 :\", m_mu)\n",
    "print(\"standard deviation of temp (M)   :\", m_sigma)"
   ]
  },
  {
   "cell_type": "markdown",
   "metadata": {},
   "source": [
    "---\n",
    "## **Question 1**: is the distribution of body temperatures normal?\n"
   ]
  },
  {
   "cell_type": "markdown",
   "metadata": {},
   "source": [
    "---\n",
    "\n",
    "### Question 1 - Approach 1\n",
    "### Check the normality of the distribution using histograms:"
   ]
  },
  {
   "cell_type": "code",
   "execution_count": 13,
   "metadata": {},
   "outputs": [
    {
     "data": {
      "image/png": "[encoded data removed]",
      "text/plain": [
       "<Figure size 864x648 with 3 Axes>"
      ]
     },
     "metadata": {},
     "output_type": "display_data"
    }
   ],
   "source": [
    "# ~~~~~~~~~~~~~~~~~~~~~~~~~~~~~~~~~~~~~~~~~~~~~~~~~~~~~~~~~~~~~~~~~~~~~~~~~~~~~\n",
    "# Set default Seaborn style\n",
    "sns.set()\n",
    "# ~~~~~~~~~~~~~~~~~~~~~~~~~~~~~~~~~~~~~~~~~~~~~~~~~~~~~~~~~~~~~~~~~~~~~~~~~~~~~\n",
    "\n",
    "\n",
    "\n",
    "\n",
    "# ~~~~~~~~~~~~~~~~~~~~~~~~~~~~~~~~~~~~~~~~~~~~~~~~~~~~~~~~~~~~~~~~~~~~~~~~~~~~~\n",
    "# Create a figure with 2x2 subplot layout and make the top left subplot active\n",
    "_ = plt.subplot(2, 2, 1)\n",
    "\n",
    "_ = plt.hist(\n",
    "    temp_vals, \n",
    "    bins=hf.get_srr_bins(temp_vals) # Get number of bins using the \"square root rule\"\n",
    ")\n",
    "\n",
    "\n",
    "# Label axes\n",
    "_ = plt.xlabel('Body Temperature (Male & Female)')\n",
    "_ = plt.ylabel('Count')\n",
    "# ~~~~~~~~~~~~~~~~~~~~~~~~~~~~~~~~~~~~~~~~~~~~~~~~~~~~~~~~~~~~~~~~~~~~~~~~~~~~~\n",
    "\n",
    "\n",
    "\n",
    "\n",
    "# ~~~~~~~~~~~~~~~~~~~~~~~~~~~~~~~~~~~~~~~~~~~~~~~~~~~~~~~~~~~~~~~~~~~~~~~~~~~~~\n",
    "_ = plt.subplot(2, 2, 2)\n",
    "\n",
    "_ = plt.hist(\n",
    "    temp_f_vals, \n",
    "    bins=hf.get_srr_bins(temp_f_vals) # Get number of bins using the \"square root rule\"\n",
    ")\n",
    "\n",
    "\n",
    "# Label axes\n",
    "_ = plt.xlabel('Body Temperature (Female)')\n",
    "_ = plt.ylabel('Count')\n",
    "# ~~~~~~~~~~~~~~~~~~~~~~~~~~~~~~~~~~~~~~~~~~~~~~~~~~~~~~~~~~~~~~~~~~~~~~~~~~~~~\n",
    "\n",
    "\n",
    "\n",
    "\n",
    "# ~~~~~~~~~~~~~~~~~~~~~~~~~~~~~~~~~~~~~~~~~~~~~~~~~~~~~~~~~~~~~~~~~~~~~~~~~~~~~\n",
    "_ = plt.subplot(2, 2, 3)\n",
    "\n",
    "_ = plt.hist(\n",
    "    temp_m_vals, \n",
    "    bins=hf.get_srr_bins(temp_m_vals) # Get number of bins using the \"square root rule\"\n",
    ")\n",
    "\n",
    "\n",
    "# Label axes\n",
    "_ = plt.xlabel('Body Temperature (Male)')\n",
    "_ = plt.ylabel('Count')\n",
    "# ~~~~~~~~~~~~~~~~~~~~~~~~~~~~~~~~~~~~~~~~~~~~~~~~~~~~~~~~~~~~~~~~~~~~~~~~~~~~~\n",
    "\n",
    "\n",
    "\n",
    "# ~~~~~~~~~~~~~~~~~~~~~~~~~~~~~~~~~~~~~~~~~~~~~~~~~~~~~~~~~~~~~~~~~~~~~~~~~~~~~\n",
    "# Show histograms\n",
    "plt.show()\n",
    "# ~~~~~~~~~~~~~~~~~~~~~~~~~~~~~~~~~~~~~~~~~~~~~~~~~~~~~~~~~~~~~~~~~~~~~~~~~~~~~"
   ]
  },
  {
   "cell_type": "markdown",
   "metadata": {},
   "source": [
    "### Result:\n",
    "- When plotting male and female together the histogram looks somewhat normal\n",
    "- However, even in there the data is skewed to the left\n"
   ]
  },
  {
   "cell_type": "markdown",
   "metadata": {},
   "source": [
    "---\n",
    "\n",
    "### Question 1 - Approach 2\n",
    "### Check the normality of the distribution using box plots:"
   ]
  },
  {
   "cell_type": "code",
   "execution_count": 14,
   "metadata": {},
   "outputs": [
    {
     "data": {
      "image/png": "[encoded data removed]",
      "text/plain": [
       "<Figure size 864x648 with 2 Axes>"
      ]
     },
     "metadata": {},
     "output_type": "display_data"
    }
   ],
   "source": [
    "# ~~~~~~~~~~~~~~~~~~~~~~~~~~~~~~~~~~~~~~~~~~~~~~~~~~~~~~~~~~~~~~~~~~~~~~~~~~~~~\n",
    "# Create a figure with 1x2 subplot layout and make the left subplot active\n",
    "_ = plt.subplot(1, 2, 1)\n",
    "\n",
    "# Create box plot with Seaborn's default settings\n",
    "_ = sns.boxplot(\n",
    "    x    = 'gender', \n",
    "    y    = 'temperature', \n",
    "    data = temp_df\n",
    ")\n",
    "\n",
    "# Label the axes\n",
    "_ = plt.xlabel('gender')\n",
    "_ = plt.ylabel('temperature')\n",
    "# ~~~~~~~~~~~~~~~~~~~~~~~~~~~~~~~~~~~~~~~~~~~~~~~~~~~~~~~~~~~~~~~~~~~~~~~~~~~~~\n",
    "\n",
    "\n",
    "\n",
    "# ~~~~~~~~~~~~~~~~~~~~~~~~~~~~~~~~~~~~~~~~~~~~~~~~~~~~~~~~~~~~~~~~~~~~~~~~~~~~~\n",
    "_ = plt.subplot(1, 2, 2)\n",
    "\n",
    "# Create box plot with Seaborn's default settings\n",
    "_ = sns.boxplot(\n",
    "    x    = 'temperature',     \n",
    "    data = temp_df\n",
    ")\n",
    "\n",
    "# Label the axes\n",
    "_ = plt.xlabel('temperature (male & female)')\n",
    "# ~~~~~~~~~~~~~~~~~~~~~~~~~~~~~~~~~~~~~~~~~~~~~~~~~~~~~~~~~~~~~~~~~~~~~~~~~~~~~\n",
    "\n",
    "\n",
    "\n",
    "# ~~~~~~~~~~~~~~~~~~~~~~~~~~~~~~~~~~~~~~~~~~~~~~~~~~~~~~~~~~~~~~~~~~~~~~~~~~~~~\n",
    "# Show the plot\n",
    "plt.show()\n",
    "# ~~~~~~~~~~~~~~~~~~~~~~~~~~~~~~~~~~~~~~~~~~~~~~~~~~~~~~~~~~~~~~~~~~~~~~~~~~~~~"
   ]
  },
  {
   "cell_type": "markdown",
   "metadata": {},
   "source": [
    "### Result:\n",
    "- When plotting male and female together the box-plot looks appears more normal"
   ]
  },
  {
   "cell_type": "markdown",
   "metadata": {},
   "source": [
    "---\n",
    "### Question 1 - Approach 3\n",
    "### Check the normality of the distribution using ECDF's:"
   ]
  },
  {
   "cell_type": "code",
   "execution_count": 15,
   "metadata": {},
   "outputs": [
    {
     "data": {
      "image/png": "[encoded data removed]",
      "text/plain": [
       "<Figure size 864x648 with 3 Axes>"
      ]
     },
     "metadata": {},
     "output_type": "display_data"
    }
   ],
   "source": [
    "# ~~~~~~~~~~~~~~~~~~~~~~~~~~~~~~~~~~~~~~~~~~~~~~~~~~~~~~~~~~~~~~~~~~~~~~~~~~~~~\n",
    "# Create a figure with 2x2 subplot layout and make the top left subplot active\n",
    "_ = plt.subplot(2, 2, 1)\n",
    "\n",
    "# Sample out of a normal distribution with this mu and sigma:\n",
    "samples = np.random.normal(mu, sigma, size=10000)\n",
    "\n",
    "# Get the CDF of the samples and of the data\n",
    "x_theor, y_theor = hf.ecdf(samples)\n",
    "x, y             = hf.ecdf(temp_vals)\n",
    "\n",
    "# Plot the CDFs and show the plot\n",
    "_ = plt.plot(x_theor, y_theor)\n",
    "_ = plt.plot(x, y, marker='.', linestyle='none')\n",
    "\n",
    "plt.margins(0.02)\n",
    "\n",
    "_ = plt.xlabel('Body Temperature (M&F)')\n",
    "_ = plt.ylabel('CDF')\n",
    "# ~~~~~~~~~~~~~~~~~~~~~~~~~~~~~~~~~~~~~~~~~~~~~~~~~~~~~~~~~~~~~~~~~~~~~~~~~~~~~\n",
    "\n",
    "\n",
    "\n",
    "\n",
    "# ~~~~~~~~~~~~~~~~~~~~~~~~~~~~~~~~~~~~~~~~~~~~~~~~~~~~~~~~~~~~~~~~~~~~~~~~~~~~~\n",
    "_ = plt.subplot(2, 2, 2)\n",
    "\n",
    "f_samples = np.random.normal(f_mu, f_sigma, size=10000)\n",
    "\n",
    "# Get the CDF of the samples and of the data\n",
    "x_theor, y_theor = hf.ecdf(f_samples)\n",
    "x, y             = hf.ecdf(temp_f_vals)\n",
    "\n",
    "# Plot the CDFs and show the plot\n",
    "_ = plt.plot(x_theor, y_theor)\n",
    "_ = plt.plot(x, y, marker='.', linestyle='none')\n",
    "\n",
    "plt.margins(0.02)\n",
    "\n",
    "_ = plt.xlabel('Body Temperature (F)')\n",
    "_ = plt.ylabel('CDF')\n",
    "# ~~~~~~~~~~~~~~~~~~~~~~~~~~~~~~~~~~~~~~~~~~~~~~~~~~~~~~~~~~~~~~~~~~~~~~~~~~~~~\n",
    "\n",
    "\n",
    "\n",
    "\n",
    "# ~~~~~~~~~~~~~~~~~~~~~~~~~~~~~~~~~~~~~~~~~~~~~~~~~~~~~~~~~~~~~~~~~~~~~~~~~~~~~\n",
    "_ = plt.subplot(2, 2, 3)\n",
    "\n",
    "m_samples = np.random.normal(m_mu, m_sigma, size=10000)\n",
    "\n",
    "x_theor, y_theor = hf.ecdf(m_samples)\n",
    "x, y             = hf.ecdf(temp_m_vals)\n",
    "\n",
    "_ = plt.plot(x_theor, y_theor)\n",
    "_ = plt.plot(x, y, marker='.', linestyle='none')\n",
    "\n",
    "plt.margins(0.02)\n",
    "\n",
    "_ = plt.xlabel('Body Temperature (M)')\n",
    "_ = plt.ylabel('CDF')\n",
    "# ~~~~~~~~~~~~~~~~~~~~~~~~~~~~~~~~~~~~~~~~~~~~~~~~~~~~~~~~~~~~~~~~~~~~~~~~~~~~~\n",
    "\n",
    "\n",
    "plt.show()"
   ]
  },
  {
   "cell_type": "markdown",
   "metadata": {},
   "source": [
    "### Result:\n",
    "- Looks for the most part normal when plotting M and F together.\n",
    "- Although, at some points, it does moves away from the normal model"
   ]
  },
  {
   "cell_type": "markdown",
   "metadata": {},
   "source": [
    "---\n",
    "### Question 1 - Approach 4\n",
    "### Check the normality of the distribution using Normal Probability Plots\n",
    "- If the distribution of the sample is approximately normal, the result is a **straight line** with \n",
    "    - **intercept mu** \n",
    "    - **slope sigma**\n"
   ]
  },
  {
   "cell_type": "code",
   "execution_count": 16,
   "metadata": {},
   "outputs": [
    {
     "data": {
      "image/png": "[encoded data removed]",
      "text/plain": [
       "<Figure size 864x648 with 1 Axes>"
      ]
     },
     "metadata": {},
     "output_type": "display_data"
    }
   ],
   "source": [
    "# -- ~~~~~~~~~~~~~~~~~~~~~~~~~~~~~~~~~~~~~~~~~~~~~~~~~~~    \n",
    "x_line, y_line = hf.get_x_y_for_line(\n",
    "    bounds      = [-3, 3], \n",
    "    y_intercept = mu, \n",
    "    slope       = sigma\n",
    ")\n",
    "# -- ~~~~~~~~~~~~~~~~~~~~~~~~~~~~~~~~~~~~~~~~~~~~~~~~~~~\n",
    "\n",
    "\n",
    "\n",
    "# -- ~~~~~~~~~~~~~~~~~~~~~~~~~~~~~~~~~~~~~~~~~~~~~~~~~~~\n",
    "x, y = hf.get_x_y_for_norm_plot(temp_vals)\n",
    "# -- ~~~~~~~~~~~~~~~~~~~~~~~~~~~~~~~~~~~~~~~~~~~~~~~~~~~\n",
    "\n",
    "\n",
    "\n",
    "# -- ~~~~~~~~~~~~~~~~~~~~~~~~~~~~~~~~~~~~~~~~~~~~~~~~~~~\n",
    "_ = plt.plot(\n",
    "    x_line, \n",
    "    y_line, \n",
    "    color = 'gray', \n",
    "    label = 'Model Line'\n",
    ")\n",
    "\n",
    "_ = plt.plot(\n",
    "    x, \n",
    "    y, \n",
    "    label = 'Actual Data')\n",
    "# -- ~~~~~~~~~~~~~~~~~~~~~~~~~~~~~~~~~~~~~~~~~~~~~~~~~~~\n",
    "\n",
    "\n",
    "\n",
    "# -- ~~~~~~~~~~~~~~~~~~~~~~~~~~~~~~~~~~~~~~~~~~~~~~~~~~~\n",
    "plt.margins(0.02)\n",
    "\n",
    "_ = plt.legend(loc='upper left')\n",
    "_ = plt.xlabel('Standard deviations from mean')\n",
    "_ = plt.ylabel('Body temperature')\n",
    "\n",
    "plt.show()\n",
    "# -- ~~~~~~~~~~~~~~~~~~~~~~~~~~~~~~~~~~~~~~~~~~~~~~~~~~~"
   ]
  },
  {
   "cell_type": "markdown",
   "metadata": {},
   "source": [
    "### Result:\n",
    "- The curve matches the model near the mean but deviates in the tails."
   ]
  },
  {
   "cell_type": "markdown",
   "metadata": {},
   "source": [
    "---\n",
    "## **Question 2.a**: Is the sample size large? \n",
    "\n",
    "### Answer: Yes\n",
    "- To use CLT, rule of thumb is to have sample size > 30 or 50. \n",
    "- Sample size here is 130\n",
    "\n",
    "\n",
    "## **Question 2.b**: Are the observations independent?\n",
    "### Answer: Yes\n",
    "- Each observation in the data is a measurement from a different person.\n",
    "- One person's body temperature doesn't have an affect on another person's body temperature "
   ]
  },
  {
   "cell_type": "markdown",
   "metadata": {},
   "source": [
    "---\n",
    "## **Question 3.a**: Is the true population mean really 98.6 degrees F?  \n",
    "- Use bootstrap hypothesis test."
   ]
  },
  {
   "cell_type": "code",
   "execution_count": 17,
   "metadata": {},
   "outputs": [
    {
     "data": {
      "text/plain": [
       "98.24923076923075"
      ]
     },
     "execution_count": 17,
     "metadata": {},
     "output_type": "execute_result"
    }
   ],
   "source": [
    "sample_mean = np.mean(temp_vals)\n",
    "\n",
    "sample_mean"
   ]
  },
  {
   "cell_type": "code",
   "execution_count": 18,
   "metadata": {},
   "outputs": [],
   "source": [
    "hypothesized_mean = 98.6"
   ]
  },
  {
   "cell_type": "code",
   "execution_count": 19,
   "metadata": {},
   "outputs": [],
   "source": [
    "sample_shifted = temp_vals - sample_mean + hypothesized_mean"
   ]
  },
  {
   "cell_type": "markdown",
   "metadata": {},
   "source": [
    "### Plot ECDF to check the impact:"
   ]
  },
  {
   "cell_type": "code",
   "execution_count": 20,
   "metadata": {},
   "outputs": [
    {
     "data": {
      "image/png": "[encoded data removed]",
      "text/plain": [
       "<Figure size 864x648 with 1 Axes>"
      ]
     },
     "metadata": {},
     "output_type": "display_data"
    }
   ],
   "source": [
    "# Compute x,y values for ECDFs\n",
    "x_orig,    y_orig    = hf.ecdf(temp_vals)\n",
    "x_shifted, y_shifted = hf.ecdf(sample_shifted)\n",
    "\n",
    "# Plot the ECDFs\n",
    "plt.plot(x_orig,    y_orig,    marker='.', linestyle='none')\n",
    "plt.plot(x_shifted, y_shifted, marker='.', linestyle='none')\n",
    "\n",
    "# Set the margins\n",
    "plt.margins(0.02)\n",
    "\n",
    "# Add a legend\n",
    "plt.legend(('orig', 'shifted'), loc='lower right')\n",
    "\n",
    "# Label axes and show plot\n",
    "plt.xlabel('Temperature')\n",
    "plt.ylabel('ECDF')\n",
    "plt.show()"
   ]
  },
  {
   "cell_type": "markdown",
   "metadata": {},
   "source": [
    "### Null Hypothesis \n",
    "- The true mean temperature is 98.6.\n",
    "- I.e. we would have actually gotten the same mean if we would have repeated our sample data collection lots and lots of times."
   ]
  },
  {
   "cell_type": "markdown",
   "metadata": {},
   "source": [
    "\n",
    "### The Test Statistic"
   ]
  },
  {
   "cell_type": "code",
   "execution_count": 21,
   "metadata": {},
   "outputs": [],
   "source": [
    "def diff_from_hyp(data, hypothesized_mean = 98.6):\n",
    "    return np.mean(data) - hypothesized_mean"
   ]
  },
  {
   "cell_type": "code",
   "execution_count": 22,
   "metadata": {},
   "outputs": [
    {
     "name": "stdout",
     "output_type": "stream",
     "text": [
      "-0.35076923076924515\n"
     ]
    }
   ],
   "source": [
    "diff_observed = diff_from_hyp(temp_vals)\n",
    "\n",
    "print(diff_observed)"
   ]
  },
  {
   "cell_type": "markdown",
   "metadata": {},
   "source": [
    "### Compute the p-value"
   ]
  },
  {
   "cell_type": "code",
   "execution_count": 23,
   "metadata": {},
   "outputs": [],
   "source": [
    "bs_replicates = hf.draw_bootstrap_replicates(sample_shifted, diff_from_hyp, 10000)"
   ]
  },
  {
   "cell_type": "code",
   "execution_count": 24,
   "metadata": {},
   "outputs": [
    {
     "data": {
      "text/plain": [
       "0.0"
      ]
     },
     "execution_count": 24,
     "metadata": {},
     "output_type": "execute_result"
    }
   ],
   "source": [
    "p_value = np.sum(bs_replicates <= diff_observed) / 10000\n",
    "\n",
    "p_value"
   ]
  },
  {
   "cell_type": "markdown",
   "metadata": {},
   "source": [
    "### Plot the histogram"
   ]
  },
  {
   "cell_type": "code",
   "execution_count": 45,
   "metadata": {},
   "outputs": [
    {
     "data": {
      "image/png": "[encoded data removed]",
      "text/plain": [
       "<Figure size 864x648 with 1 Axes>"
      ]
     },
     "metadata": {},
     "output_type": "display_data"
    }
   ],
   "source": [
    "# Plot the histogram\n",
    "_ = plt.hist(bs_replicates, bins=50, density=True)\n",
    "_ = plt.xlabel('Shifted Data - Diff to 98.6')\n",
    "_ = plt.ylabel('PDF')\n",
    "\n",
    "\n",
    "_ = plt.axvline(\n",
    "    x     = diff_observed,\n",
    "    color = 'red',\n",
    "    label = 'Actual - Diff of 98.6: '+str(diff_observed)\n",
    ")\n",
    "\n",
    "plt.legend(loc='upper right')\n",
    "\n",
    "plt.show()"
   ]
  },
  {
   "cell_type": "markdown",
   "metadata": {},
   "source": [
    "### Conclusion: null hypothesis is rejected."
   ]
  },
  {
   "cell_type": "markdown",
   "metadata": {},
   "source": [
    "---\n",
    "## **Questions 3.b**: Is the true population mean really 98.6 degrees F?  \n",
    "- Use frequentist statistical testing.\n",
    "\n",
    "## Question: \n",
    "- Would you use a one-sample or two-sample test? Why?\n",
    "\n",
    "## Answer: \n",
    "- We'll use a one-sample test being that we're comparing to a single value. \n",
    "\n",
    "## Question: \n",
    "- In this situation, is it appropriate to use the $t$ or $z$ statistic?\n",
    "\n",
    "## Answer: \n",
    "- We'll use a t-statistic being that the population standard deviation is unknown. \n",
    "- Though a t-test is best for small samples, it becomes similar to the z-test with large samples, so the results shouldn't differ much."
   ]
  },
  {
   "cell_type": "markdown",
   "metadata": {},
   "source": [
    "--- \n",
    "\n",
    "### Single Sample t-test"
   ]
  },
  {
   "cell_type": "code",
   "execution_count": 26,
   "metadata": {},
   "outputs": [
    {
     "name": "stdout",
     "output_type": "stream",
     "text": [
      "98.24923076923075 0.7331831580389456\n"
     ]
    }
   ],
   "source": [
    "hypothesized_mean = 98.6\n",
    "\n",
    "sample_mean = np.mean(temp_vals)\n",
    "sample_std  = np.std(temp_vals, ddof=1)\n",
    "sample_size = 130\n",
    "\n",
    "print(sample_mean, sample_std)"
   ]
  },
  {
   "cell_type": "code",
   "execution_count": 27,
   "metadata": {},
   "outputs": [
    {
     "data": {
      "text/plain": [
       "-5.4548232923645195"
      ]
     },
     "execution_count": 27,
     "metadata": {},
     "output_type": "execute_result"
    }
   ],
   "source": [
    "t = (sample_mean - hypothesized_mean) / (sample_std / math.sqrt(sample_size))\n",
    "\n",
    "t"
   ]
  },
  {
   "cell_type": "code",
   "execution_count": 28,
   "metadata": {},
   "outputs": [
    {
     "name": "stdout",
     "output_type": "stream",
     "text": [
      "0.005 0.995 129\n"
     ]
    }
   ],
   "source": [
    "alpha = .01\n",
    "\n",
    "left_tail_crit = alpha/2\n",
    "\n",
    "right_tail_crit = 1 - (alpha/2)\n",
    "\n",
    "df = sample_size - 1\n",
    "\n",
    "print(left_tail_crit, right_tail_crit, df)"
   ]
  },
  {
   "cell_type": "code",
   "execution_count": 29,
   "metadata": {},
   "outputs": [
    {
     "data": {
      "text/plain": [
       "-2.6144786796997836"
      ]
     },
     "execution_count": 29,
     "metadata": {},
     "output_type": "execute_result"
    }
   ],
   "source": [
    "t_crit_left = stats.t.ppf(left_tail_crit, df)\n",
    "\n",
    "t_crit_left"
   ]
  },
  {
   "cell_type": "code",
   "execution_count": 30,
   "metadata": {},
   "outputs": [
    {
     "data": {
      "text/plain": [
       "2.614478679699783"
      ]
     },
     "execution_count": 30,
     "metadata": {},
     "output_type": "execute_result"
    }
   ],
   "source": [
    "t_crit_right = stats.t.ppf(right_tail_crit, df)\n",
    "\n",
    "t_crit_right"
   ]
  },
  {
   "cell_type": "code",
   "execution_count": 31,
   "metadata": {},
   "outputs": [
    {
     "name": "stdout",
     "output_type": "stream",
     "text": [
      "Reject null hypothesis\n"
     ]
    }
   ],
   "source": [
    "if t_crit_left <= t <= t_crit_right:\n",
    "    print('Do not reject null hypothesis')\n",
    "else:\n",
    "    print('Reject null hypothesis')"
   ]
  },
  {
   "cell_type": "markdown",
   "metadata": {},
   "source": [
    "### Let's do the same test using the mean body temperatures at the t-crit points"
   ]
  },
  {
   "cell_type": "code",
   "execution_count": 34,
   "metadata": {},
   "outputs": [
    {
     "name": "stdout",
     "output_type": "stream",
     "text": [
      "98.43187747316681 98.76812252683318\n"
     ]
    }
   ],
   "source": [
    "t_crit_left_mean  = (t_crit_left  * (sample_std / math.sqrt(sample_size))) + hypothesized_mean \n",
    "\n",
    "t_crit_right_mean = (t_crit_right * (sample_std / math.sqrt(sample_size))) + hypothesized_mean \n",
    "\n",
    "print(t_crit_left_mean, t_crit_right_mean)"
   ]
  },
  {
   "cell_type": "code",
   "execution_count": 35,
   "metadata": {},
   "outputs": [
    {
     "name": "stdout",
     "output_type": "stream",
     "text": [
      "Reject null hypothesis\n"
     ]
    }
   ],
   "source": [
    "if t_crit_left_mean <= sample_mean <= t_crit_right_mean:\n",
    "    print('Do not reject null hypothesis')\n",
    "else:\n",
    "    print('Reject null hypothesis')"
   ]
  },
  {
   "cell_type": "markdown",
   "metadata": {},
   "source": [
    "---\n",
    "### Let's do the same test using p-value\n",
    "- In the p-value method, we ask how much area (probability) is beyond the test-statistic of $t$"
   ]
  },
  {
   "cell_type": "code",
   "execution_count": 51,
   "metadata": {},
   "outputs": [
    {
     "name": "stdout",
     "output_type": "stream",
     "text": [
      "0.0\n"
     ]
    }
   ],
   "source": [
    "p_value = stats.t.cdf(t, df)\n",
    "\n",
    "print(round(p_value, 4))"
   ]
  },
  {
   "cell_type": "code",
   "execution_count": 52,
   "metadata": {},
   "outputs": [
    {
     "data": {
      "text/plain": [
       "(0.005, 0.995)"
      ]
     },
     "execution_count": 52,
     "metadata": {},
     "output_type": "execute_result"
    }
   ],
   "source": [
    "left_tail_crit, right_tail_crit"
   ]
  },
  {
   "cell_type": "code",
   "execution_count": 53,
   "metadata": {},
   "outputs": [
    {
     "name": "stdout",
     "output_type": "stream",
     "text": [
      "Reject null hypothesis\n"
     ]
    }
   ],
   "source": [
    "if left_tail_crit <= p_value <= right_tail_crit:\n",
    "    print('Do not reject null hypothesis')\n",
    "else:\n",
    "    print('Reject null hypothesis')"
   ]
  },
  {
   "cell_type": "markdown",
   "metadata": {},
   "source": [
    "--- \n",
    "\n",
    "### Same single sample t-test using **scipy.stats**"
   ]
  },
  {
   "cell_type": "code",
   "execution_count": 57,
   "metadata": {},
   "outputs": [
    {
     "name": "stdout",
     "output_type": "stream",
     "text": [
      "t       : -5.4548\n",
      "p-value : 0.0\n"
     ]
    }
   ],
   "source": [
    "t, p_value = stats.ttest_1samp(temp_vals, hypothesized_mean)\n",
    "\n",
    "print('t       :', round(t, 4))\n",
    "print('p-value :', round(p_value, 4))"
   ]
  },
  {
   "cell_type": "markdown",
   "metadata": {},
   "source": [
    "### Single Sample z-test\n",
    "- The z-test in this case is not the most appropriate being that the population standard deviation is not known. \n",
    "- However, we'll approximate the z-statistic using the standard error of the mean"
   ]
  },
  {
   "cell_type": "code",
   "execution_count": 66,
   "metadata": {},
   "outputs": [
    {
     "name": "stdout",
     "output_type": "stream",
     "text": [
      "98.24923076923075 0.730357778905038 0.06405661469519337\n"
     ]
    }
   ],
   "source": [
    "sample_mean = np.mean(temp_vals)\n",
    "sample_std  = np.std(temp_vals)\n",
    "sample_size = 130\n",
    "\n",
    "\n",
    "# Calculate standard error of the mean:\n",
    "sem = sample_std/np.sqrt(sample_size)\n",
    "\n",
    "print(sample_mean, sample_std, sem)"
   ]
  },
  {
   "cell_type": "code",
   "execution_count": 68,
   "metadata": {},
   "outputs": [
    {
     "data": {
      "text/plain": [
       "-5.4759252020785585"
      ]
     },
     "execution_count": 68,
     "metadata": {},
     "output_type": "execute_result"
    }
   ],
   "source": [
    "\"\"\"\n",
    "Usual z-stat formula:\n",
    "z = (sample_mean - hypothesized_mean) / (population_std / math.sqrt(sample_size))\n",
    "\"\"\"\n",
    "\n",
    "# Using SEM instead:\n",
    "z = (sample_mean - hypothesized_mean) / sem\n",
    "\n",
    "z"
   ]
  },
  {
   "cell_type": "code",
   "execution_count": 69,
   "metadata": {},
   "outputs": [
    {
     "name": "stdout",
     "output_type": "stream",
     "text": [
      "0.005 0.995\n"
     ]
    }
   ],
   "source": [
    "alpha = .01\n",
    "\n",
    "left_tail_crit = alpha/2\n",
    "\n",
    "right_tail_crit = 1 - (alpha/2)\n",
    "\n",
    "print(left_tail_crit, right_tail_crit)"
   ]
  },
  {
   "cell_type": "code",
   "execution_count": 71,
   "metadata": {},
   "outputs": [
    {
     "name": "stdout",
     "output_type": "stream",
     "text": [
      "-2.575829303548901 2.5758293035489004\n"
     ]
    }
   ],
   "source": [
    "alpha = .01\n",
    "\n",
    "z_crit_left  = stats.norm.ppf(left_tail_crit)\n",
    "\n",
    "z_crit_right = stats.norm.ppf(right_tail_crit)\n",
    "\n",
    "print(z_crit_left, z_crit_right)"
   ]
  },
  {
   "cell_type": "code",
   "execution_count": 72,
   "metadata": {},
   "outputs": [
    {
     "name": "stdout",
     "output_type": "stream",
     "text": [
      "Reject null hypothesis\n"
     ]
    }
   ],
   "source": [
    "if z_crit_left <= z <= z_crit_right:\n",
    "    print('Do not reject null hypothesis')\n",
    "else:\n",
    "    print('Reject null hypothesis')"
   ]
  },
  {
   "cell_type": "markdown",
   "metadata": {},
   "source": [
    "### Let's do the same test using the mean body temperatures at the z-crit points"
   ]
  },
  {
   "cell_type": "code",
   "execution_count": 73,
   "metadata": {},
   "outputs": [
    {
     "name": "stdout",
     "output_type": "stream",
     "text": [
      "98.43500109478198 98.76499890521801\n"
     ]
    }
   ],
   "source": [
    "z_crit_left_mean  = (z_crit_left  * sem) + hypothesized_mean \n",
    "\n",
    "z_crit_right_mean = (z_crit_right * sem) + hypothesized_mean \n",
    "\n",
    "print(z_crit_left_mean, z_crit_right_mean)"
   ]
  },
  {
   "cell_type": "code",
   "execution_count": 74,
   "metadata": {},
   "outputs": [
    {
     "name": "stdout",
     "output_type": "stream",
     "text": [
      "Reject null hypothesis\n"
     ]
    }
   ],
   "source": [
    "if z_crit_left_mean <= sample_mean <= z_crit_right_mean:\n",
    "    print('Do not reject null hypothesis')\n",
    "else:\n",
    "    print('Reject null hypothesis')"
   ]
  },
  {
   "cell_type": "markdown",
   "metadata": {},
   "source": [
    "---\n",
    "### Let's do the same test using p-value\n",
    "- In the p-value method, we ask how much area (probability) is beyond the test-statistic of $z$"
   ]
  },
  {
   "cell_type": "code",
   "execution_count": 76,
   "metadata": {},
   "outputs": [
    {
     "name": "stdout",
     "output_type": "stream",
     "text": [
      "0.0\n"
     ]
    }
   ],
   "source": [
    "p_value = stats.norm.cdf(z)\n",
    "\n",
    "print(round(p_value, 4))"
   ]
  },
  {
   "cell_type": "code",
   "execution_count": 77,
   "metadata": {},
   "outputs": [
    {
     "data": {
      "text/plain": [
       "(0.005, 0.995)"
      ]
     },
     "execution_count": 77,
     "metadata": {},
     "output_type": "execute_result"
    }
   ],
   "source": [
    "left_tail_crit, right_tail_crit"
   ]
  },
  {
   "cell_type": "code",
   "execution_count": 78,
   "metadata": {},
   "outputs": [
    {
     "name": "stdout",
     "output_type": "stream",
     "text": [
      "Reject null hypothesis\n"
     ]
    }
   ],
   "source": [
    "if left_tail_crit <= p_value <= right_tail_crit:\n",
    "    print('Do not reject null hypothesis')\n",
    "else:\n",
    "    print('Reject null hypothesis')"
   ]
  },
  {
   "cell_type": "code",
   "execution_count": null,
   "metadata": {},
   "outputs": [],
   "source": []
  },
  {
   "cell_type": "code",
   "execution_count": null,
   "metadata": {},
   "outputs": [],
   "source": []
  },
  {
   "cell_type": "code",
   "execution_count": null,
   "metadata": {},
   "outputs": [],
   "source": []
  },
  {
   "cell_type": "code",
   "execution_count": null,
   "metadata": {},
   "outputs": [],
   "source": []
  },
  {
   "cell_type": "code",
   "execution_count": null,
   "metadata": {},
   "outputs": [],
   "source": []
  }
 ],
 "metadata": {
  "kernelspec": {
   "display_name": "Python (springboard-mini-projects)",
   "language": "python",
   "name": "springboard-mini-projects"
  },
  "language_info": {
   "codemirror_mode": {
    "name": "ipython",
    "version": 3
   },
   "file_extension": ".py",
   "mimetype": "text/x-python",
   "name": "python",
   "nbconvert_exporter": "python",
   "pygments_lexer": "ipython3",
   "version": "3.6.5"
  }
 },
 "nbformat": 4,
 "nbformat_minor": 2
}
